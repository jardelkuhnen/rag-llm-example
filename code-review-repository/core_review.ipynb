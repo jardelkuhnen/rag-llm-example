{
 "cells": [
  {
   "cell_type": "code",
   "execution_count": 9,
   "id": "2edeed89-08a6-4838-89ca-9b960bd5b9bf",
   "metadata": {},
   "outputs": [],
   "source": [
    "from langchain_community.document_loaders.generic import GenericLoader\n",
    "from langchain_community.document_loaders.parsers import LanguageParser\n",
    "from langchain_text_splitters import Language, RecursiveCharacterTextSplitter\n",
    "from langchain_chroma import Chroma\n",
    "from langchain_openai import OpenAIEmbeddings, ChatOpenAI\n",
    "from langchain.chains.question_answering import load_qa_chain\n",
    "from langchain_core.prompts import ChatPromptTemplate\n",
    "from langchain.chains import create_retrieval_chain\n",
    "from langchain.chains.combine_documents import create_stuff_documents_chain\n",
    "\n",
    "import os\n",
    "from git import Repo"
   ]
  },
  {
   "cell_type": "code",
   "execution_count": 40,
   "id": "67830e07-562a-4331-b72a-95a78ef153a7",
   "metadata": {},
   "outputs": [],
   "source": [
    "repo_path = \"./bailey\""
   ]
  },
  {
   "cell_type": "code",
   "execution_count": 41,
   "id": "04172477-2b8a-4411-b44b-465967628276",
   "metadata": {},
   "outputs": [],
   "source": [
    "repo = Repo.clone_from(\"https://github.com/jardelkuhnen/baylei\",to_path=repo_path)"
   ]
  },
  {
   "cell_type": "code",
   "execution_count": 42,
   "id": "13c21ead-77cb-4414-b3e7-60e7b3719ecc",
   "metadata": {},
   "outputs": [
    {
     "data": {
      "text/plain": [
       "69"
      ]
     },
     "execution_count": 42,
     "metadata": {},
     "output_type": "execute_result"
    }
   ],
   "source": [
    "loader = GenericLoader.from_filesystem(\n",
    "    repo_path,\n",
    "    glob=\"**/*\",\n",
    "    suffixes = [\".java\"],\n",
    "    parser = LanguageParser(language=Language.JAVA, parser_threshold=500)\n",
    ")\n",
    "\n",
    "documents = loader.load()\n",
    "len(documents)"
   ]
  },
  {
   "cell_type": "code",
   "execution_count": 43,
   "id": "ff376c96-5527-4dba-90d1-4257a74a3fe8",
   "metadata": {},
   "outputs": [
    {
     "data": {
      "text/plain": [
       "98"
      ]
     },
     "execution_count": 43,
     "metadata": {},
     "output_type": "execute_result"
    }
   ],
   "source": [
    "python_splitter = RecursiveCharacterTextSplitter.from_language(\n",
    "    language=Language.JAVA, chunk_size = 2000, chunk_overlap = 200\n",
    ")\n",
    "\n",
    "texts = python_splitter.split_documents(documents)\n",
    "len(texts)"
   ]
  },
  {
   "cell_type": "code",
   "execution_count": 44,
   "id": "f6adc8fa-f515-4cff-bc34-c8d92ceb362a",
   "metadata": {},
   "outputs": [],
   "source": [
    "os.environ['OPENAI_API_KEY'] = \"token openai\""
   ]
  },
  {
   "cell_type": "code",
   "execution_count": 45,
   "id": "15bc419e-5158-4296-ab84-f4a5e167df5c",
   "metadata": {},
   "outputs": [],
   "source": [
    "db = Chroma.from_documents(texts, OpenAIEmbeddings(disallowed_special=()))\n",
    "\n",
    "retriever = db.as_retriever(\n",
    "    search_type = \"mmr\",\n",
    "    search_kwargs= {\"K\": 8}\n",
    ")"
   ]
  },
  {
   "cell_type": "code",
   "execution_count": 55,
   "id": "19432a2c-0e4f-4c7f-b78c-3b22ca68bbeb",
   "metadata": {},
   "outputs": [],
   "source": [
    "llm = ChatOpenAI(model_name=\"gpt-4o-mini\", max_tokens = 500)"
   ]
  },
  {
   "cell_type": "code",
   "execution_count": 56,
   "id": "b1da1a62-ed26-4471-8dd1-da44c8f4b26e",
   "metadata": {},
   "outputs": [],
   "source": [
    "prompt = ChatPromptTemplate.from_messages(\n",
    "    [\n",
    "        (\n",
    "            \"system\",\n",
    "            \"Você é um revisor de código experiente em Java. Forneça informações detalhadas sobre a revisão de código e sugestões de melhorias baseado no contexto fornecido abaixo \\n\\n {context}\"\n",
    "        ),\n",
    "        (\n",
    "            \"user\", \"{input}\"\n",
    "        )\n",
    "    ]\n",
    ")\n",
    "\n",
    "document_chain = create_stuff_documents_chain(llm, prompt)\n",
    "\n",
    "retrieval_chain = create_retrieval_chain(retriever, document_chain)"
   ]
  },
  {
   "cell_type": "code",
   "execution_count": 54,
   "id": "87e9eb07-0ac9-4533-a06e-e4e34ddf6ab0",
   "metadata": {},
   "outputs": [],
   "source": [
    "response = retrieval_chain.invoke({\"input\": \"Você pode revisar e sugerir melhorias para o código de ClientServiceAdapter\"})"
   ]
  },
  {
   "cell_type": "code",
   "execution_count": 53,
   "id": "552a0481-ce51-447b-b03d-471a156c7291",
   "metadata": {},
   "outputs": [
    {
     "name": "stdout",
     "output_type": "stream",
     "text": [
      "Claro! Aqui estão algumas observações e sugestões de melhorias para o código da classe `ClientServiceAdapter`:\n",
      "\n",
      "### 1. Importações não utilizadas\n",
      "Certifique-se de que todas as importações são necessárias. Por exemplo, a classe `java.util.Optional` não é utilizada no código. Remova importações desnecessárias para manter o código limpo.\n",
      "\n",
      "### 2. Tratamento de exceções\n",
      "O código atualmente lança uma exceção personalizada `NotFoundException` quando um cliente não é encontrado. Seria interessante garantir que essa exceção esteja bem definida em um pacote apropriado. Além disso, considere adicionar tratamento de exceção específico para outros erros que possam ocorrer no processo.\n",
      "\n",
      "### 3. Uso de `LocalDateTime.now()`\n",
      "O uso de `LocalDateTime.now()` pode ser problemático em um ambiente de testes, pois ele depende do relógio do sistema. Utilize um serviço de relógio (clock) para facilitar testes e permitir o controle do tempo. Por exemplo:\n",
      "\n",
      "```java\n",
      "import java.time.Clock;\n",
      "\n",
      "private final Clock clock;\n",
      "\n",
      "public ClientServiceAdapter(ClientPersistencePort clientPersistencePort, Clock clock) {\n",
      "    this.clientPersistencePort = clientPersistencePort;\n",
      "    this.clock = clock;\n",
      "}\n",
      "```\n",
      "\n",
      "E então, para obter a data atual, você usaria:\n",
      "\n",
      "```java\n",
      "client.setDateCreated(LocalDateTime.now(clock));\n",
      "```\n",
      "\n",
      "### 4. Concordância de nomes\n",
      "Considere manter a consistência nos nomes das variáveis. Por exemplo, a variável `client` é um objeto do tipo `Client`, mas ela está sendo mapeada a uma `ClientDTO` com o mesmo nome. É aconselhável usar algo como `clientEntity` para o objeto que representa o cliente persistente e `clientDto` para o objeto de transferência.\n",
      "\n",
      "### 5. Verificação de null\n",
      "Em vez de usar `Objects.isNull()`, que é mais verboso, considere simplesmente utilizar `client == null`. Além disso, você pode usar `Optional` para melhorar a legibilidade quando você busca um cliente pelo ID.\n",
      "\n",
      "Exemplo:\n",
      "\n",
      "```java\n",
      "@Override\n",
      "public ClientDTO getById(String id) {\n",
      "    return Optional.ofNullable(clientPersistencePort.getById(id))\n",
      "        .map(ClientDTO::of)\n",
      "        .orElseThrow(() -> new NotFoundException(\"Não localizado client com id -> \" + id));\n",
      "}\n",
      "```\n",
      "\n",
      "### 6. Evite lógica de negócios em métodos `get`\n",
      "O método `getById` está realizando a lógica de trazer um cliente e checando por `null`. Além disso, poderia haver uma verificação para retornos vazios em `getAllByIds`. Isso pode ser tratado diretamente no repositório ou através de um serviço dedicado a validações/reportagens.\n",
      "\n",
      "### 7. Coleta de `List<Client>` em `getAll()`\n",
      "O mapeamento de `client` para `ClientDTO` no método `getAll()` deve ser otimizado para evitar a criação de uma nova lista. O uso de streams é bom, mas a adição de `collect(Collectors.toList())` pode ser realizado diretamente após o mapeamento.\n",
      "\n",
      "### 8. Implementação de operações de delete\n",
      "O método `deleteById` não possui verificação sobre a existência do cliente antes de tentar excluí-lo. Uma abordagem mais segura seria primeiro verificar se o cliente existe e, se não, lançar uma exceção.\n",
      "\n",
      "```java\n",
      "@Override\n",
      "public void deleteById(String id) {\n",
      "    if (clientPersistencePort.getById(id) == null) {\n",
      "        throw new NotFoundException(\"Não localizado client com id -> \" + id);\n",
      "    }\n",
      "    clientPersistencePort.deleteById(id);\n",
      "}\n",
      "```\n",
      "\n",
      "### 9. Adição de JavaDocs\n",
      "Adicione comentários no estilo JavaDoc às suas classes e métodos. Isso ajuda a documentar a finalidade e o comportamento do que cada método faz, facilitando a compreensão do código por outros desenvolvedores.\n",
      "\n",
      "### 10. Aplicação de testes unitários\n",
      "Finalmente, é essencial garantir que você tenha uma suíte de testes unitários abrangente para essa classe, especialmente para cenários de exceção e testes de integração com `ClientPersistencePort`.\n",
      "\n",
      "Essas mudanças visam melhorar a legibilidade, manutenibilidade e robustez do código.\n"
     ]
    }
   ],
   "source": [
    "print(response['answer'])"
   ]
  },
  {
   "cell_type": "code",
   "execution_count": null,
   "id": "1186fa09-93e7-4e3b-a2ff-58fa3c3394dd",
   "metadata": {},
   "outputs": [],
   "source": []
  }
 ],
 "metadata": {
  "kernelspec": {
   "display_name": "Python 3 (ipykernel)",
   "language": "python",
   "name": "python3"
  },
  "language_info": {
   "codemirror_mode": {
    "name": "ipython",
    "version": 3
   },
   "file_extension": ".py",
   "mimetype": "text/x-python",
   "name": "python",
   "nbconvert_exporter": "python",
   "pygments_lexer": "ipython3",
   "version": "3.11.9"
  }
 },
 "nbformat": 4,
 "nbformat_minor": 5
}
